{
 "cells": [
  {
   "cell_type": "markdown",
   "metadata": {},
   "source": [
    "### Задание 1"
   ]
  },
  {
   "cell_type": "markdown",
   "metadata": {},
   "source": [
    "Постройте иерархию наследования для какого-нибудь набора объектов с нетривиальной структурой. Например, \n",
    "используйте для этого биологическую систематику живых организмов (см. Википедию); спуститесь в ней от класса \n",
    "«Живое» до конкретных видов. \n",
    "\n",
    "Полная систематика слишком большая, поэтому большую часть уровней и веток можно пропустить."
   ]
  },
  {
   "cell_type": "code",
   "execution_count": 21,
   "metadata": {},
   "outputs": [],
   "source": [
    "#! Ну это слишком простая иерархия. \n",
    "#! Там специально написано: с нетривиальной структурой :)\n",
    "#! Придется что-то посложнее придумать\n",
    "\n",
    "class motor_vehicle:\n",
    "    def __init__(self, weight, horsepower, torque, wheels):\n",
    "        self.weight = weight\n",
    "        self.horsepower = horsepower\n",
    "        self.wheels = wheels\n",
    "        self.torque = torque\n",
    "    def torque_per_wheel(self):\n",
    "        return (self.torque / self.wheels)\n",
    "    def fuel_consumption_per_km(self, distance, fuel):\n",
    "        return fuel/(distance/100);\n",
    "        \n",
    "        \n",
    "class Automobile(motor_vehicle):\n",
    "    def __init__(self, weight, horsepower, torque, wheels = 4):\n",
    "        super().__init__(weight, horsepower, torque, wheels)\n",
    "    def honk(self):\n",
    "        print('Beeeep')\n",
    "    def open_left_door(self):\n",
    "        print(\"The left door is open\")\n",
    "    def open_right_door(self):\n",
    "        print(\"The left door is open\")\n",
    "    \n",
    "        \n",
    "class Motorcicle(motor_vehicle):\n",
    "    def __init__(self, weight, horsepower, torque):\n",
    "        super().__init__(weight, horsepower, torque, 2)\n",
    "    def honk(self):\n",
    "        print('Bep-bep')\n",
    "    def prop_stand(self):\n",
    "        print(\"Motorcycle is standing\")\n",
    "        \n",
    "class Truck(motor_vehicle):\n",
    "    def __init__(self, weight, horsepower, torque, wheels = 6):\n",
    "        super().__init__(weight, horsepower, torque, wheels)\n",
    "    def honk(self):\n",
    "        print('BEEEEEEP')\n",
    "    def open_left_door(self):\n",
    "        print(\"The left door is open\")\n",
    "    def open_right_door(self):\n",
    "        print(\"The left door is open\")\n",
    "    def disconnect_the_caravan(self):\n",
    "        print('The caravan is disconected')\n",
    "    def connect_the_caravan(self):\n",
    "        print('The caravan is conected')\n",
    "\n",
    "class Volkswagen(Automobile):\n",
    "    def __init__(self, weight, horsepower, torque, wheels = 2, volume = 0):\n",
    "        super().__init__(weight, horsepower, torque, wheels)\n",
    "        self.volume = volume\n",
    "    def start_the_engine(self):\n",
    "        print(\"Wroooom\")\n",
    "    def volume_of_music(self, volume):\n",
    "        self.volume += volume\n",
    "     \n",
    "class Yamaha(Motorcicle):\n",
    "    def start_the_engine(self):\n",
    "        print(\"Wrom-wrom\")\n",
    "    def open_trunk(self):\n",
    "        print(\"Trunk is open\")\n",
    "    def stand_on_one_wheel(self):\n",
    "        self.wheels = 1\n",
    "    def stand_on_two_wheels(self):\n",
    "        self.wheels = 2\n",
    "    \n",
    "class Volvo(Truck):\n",
    "    def start_the_engine(self):\n",
    "        print(\"Wroooom\")\n",
    "    def broke(self):\n",
    "        self.horsepower = 0\n",
    "        self.torque = 0\n",
    "    \n",
    "    \n"
   ]
  },
  {
   "cell_type": "code",
   "execution_count": 23,
   "metadata": {},
   "outputs": [
    {
     "name": "stdout",
     "output_type": "stream",
     "text": [
      "10\n"
     ]
    },
    {
     "data": {
      "text/plain": [
       "5"
      ]
     },
     "execution_count": 23,
     "metadata": {},
     "output_type": "execute_result"
    }
   ],
   "source": [
    "some_vehicle = motor_vehicle(1000, 50, 100, 4)\n",
    "some_auto = Automobile(1500, 200, 400)\n",
    "some_motorcicle = Motorcicle(1000, 300, 200)\n",
    "P100 = Yamaha(1000, 300, 200)\n",
    "P100.stand_on_one_wheel()\n",
    "P100.wheels\n",
    "P100.torque_per_wheel()\n",
    "\n",
    "Polo = Volkswagen(1500, 80, 200)\n",
    "Polo.volume_of_music(+10)\n",
    "print(Polo.volume)\n",
    "Polo.volume_of_music(-5)\n",
    "Polo.volume"
   ]
  },
  {
   "cell_type": "markdown",
   "metadata": {},
   "source": [
    "### Задание 2"
   ]
  },
  {
   "cell_type": "markdown",
   "metadata": {},
   "source": [
    "Реализуйте класс «n-мерный» вектор. У этого класса должны быть определены все естественные для вектора операции:\n",
    "- сложение\n",
    "- вычитание\n",
    "- умножение на константу\n",
    "- скалярное произведение\n",
    "- сравнение на равенство\n",
    "\n",
    "а также операции \n",
    "- вычисления длины\n",
    "- получение элемента по индексу \n",
    "- и строковое представление. \n",
    "\n",
    "Во всех операциях можно считать, что все передаваемые аргументы корректны."
   ]
  },
  {
   "cell_type": "code",
   "execution_count": 127,
   "metadata": {},
   "outputs": [],
   "source": [
    "from math import *\n",
    "from functools import wraps\n",
    "\n",
    "def same_dims(func):\n",
    "    @wraps(func)\n",
    "    def inner(self, other):\n",
    "        self_len, other_len = len(self.arr), len(other.arr)\n",
    "        if self_len != other_len:\n",
    "            raise TypeError(f'invalid dims: {self_len} and {other_len}')\n",
    "        return func(self, other)\n",
    "    return inner\n",
    "\n",
    "class Vector:\n",
    "    def __init__(self, nums):\n",
    "        self.arr = list(nums)\n",
    "        \n",
    "    def __len__(self):\n",
    "        return int(sqrt(sum([x*x for x in self.arr])))\n",
    "    \n",
    "    def __str__(self):\n",
    "        return f'Vector {(str(self.arr))}'\n",
    "    \n",
    "    @same_dims \n",
    "    def __iadd__(self, some_vector):\n",
    "        for i, val in enumerate(some_vector):\n",
    "            self.arr[i] += val\n",
    "        return self \n",
    "        \n",
    "    @same_dims\n",
    "    def __add__(self, some_vector):\n",
    "        #! У вас суммирование изменяет состояние текущего вектора.\n",
    "        #! Это нормально, если это происходит в суммировании с присваиванием, но \n",
    "        #! не здесь. \n",
    "        #! Вряд ли кто-то ожидает, что в строчке кода \n",
    "        #! print(v1 + v2)\n",
    "        #! v1 будет изменяться (в такой строке как раз __add__ вызывается,\n",
    "        #! в v1 += v2 вызывается __iadd__)\n",
    "        #!\n",
    "        #! Для других методов аналогичная история\n",
    "        temp = Vector(self.arr)\n",
    "        temp += some_vector\n",
    "        return temp\n",
    "    \n",
    "    @same_dims \n",
    "    def __isub__(self, some_vector):\n",
    "        for i, val in enumerate(some_vector):\n",
    "            self.arr[i] -= val\n",
    "        return self \n",
    "    \n",
    "    @same_dims\n",
    "    def __sub__(self, some_vector):\n",
    "        temp = Vector(self.arr)\n",
    "        temp -= some_vector\n",
    "        return temp\n",
    "        \n",
    "    \n",
    "    def __imul__(self, some_vector):\n",
    "        if isinstance(some_vector, Vector):\n",
    "            for i, val in enumerate(some_vector):\n",
    "                self.arr[i] *= val\n",
    "            return self \n",
    "        elif int(some_vector):\n",
    "            new_list = [element * some_vector for element in self.arr]\n",
    "            return Vector(new_list)\n",
    "        else: return Vector(self.arr)\n",
    "    \n",
    "    def __mul__(self, some_vector):\n",
    "        temp = Vector(self.arr)\n",
    "        temp *= some_vector\n",
    "        return temp\n",
    "            \n",
    "    def __eq__(self, some_vector):\n",
    "        return (len(self) == len(some_vector))\n",
    "    \n",
    "    def __lt__(self, some_vector):\n",
    "        return (len(self) < len(some_vector))\n",
    "    \n",
    "    \n",
    "    \n",
    "    #! Посмотрите на магические методы __getitem__ и __setitem__\n",
    "    def __getitem__ (self, index):\n",
    "        return self.arr[index]\n",
    "    \n",
    "    def __setitem__ (self, index, value):\n",
    "        self.arr[index] = value"
   ]
  },
  {
   "cell_type": "code",
   "execution_count": 126,
   "metadata": {},
   "outputs": [
    {
     "name": "stdout",
     "output_type": "stream",
     "text": [
      "7\n",
      "6\n",
      "True\n"
     ]
    }
   ],
   "source": [
    "x = Vector([2,6,3])  \n",
    "z = Vector([3,6,1])\n",
    "\n",
    "print(len(x))\n",
    "print(len(z))\n",
    "print(x > z)"
   ]
  },
  {
   "cell_type": "code",
   "execution_count": 122,
   "metadata": {},
   "outputs": [
    {
     "name": "stdout",
     "output_type": "stream",
     "text": [
      "[1, 6, 3]\n",
      "Vector [5, 30, 15]\n"
     ]
    }
   ],
   "source": [
    "y = Vector([2,4,2,5])\n",
    "a = x * 5\n",
    "print(a)\n",
    "print(x*z)"
   ]
  },
  {
   "cell_type": "code",
   "execution_count": 124,
   "metadata": {},
   "outputs": [
    {
     "name": "stdout",
     "output_type": "stream",
     "text": [
      "Vector [1, 6, 3]\n",
      "6\n"
     ]
    }
   ],
   "source": [
    "print(str(x))\n",
    "print(x[1])"
   ]
  },
  {
   "cell_type": "markdown",
   "metadata": {},
   "source": [
    "### Задание 3"
   ]
  },
  {
   "cell_type": "markdown",
   "metadata": {},
   "source": [
    "Дано некоторое множество объектов X и натуральное число n. Необходимо перебрать все элементы в множестве X^n (декартово произведение). \n",
    "\n",
    "Например, если $X = \\{1, a\\}$, то $X^2$ содержит такие элементы: (1, 1), (1, a), (a, 1), (a, a).\n",
    "\n",
    "Для этого напишите класс, экземпляры которого соответствую элементам этого множества, и у которых есть методы для получения текущего элемента, и замены текущего элемента на «следующий». \n",
    "\n",
    "Следующий элемент выбирайте таким образом, чтобы при после- довательном применении этого метода можно было получить все элементы множества. Не забудьте добавить возможность зацикливания, если этот метод вызывается более $|X|^n$ раз.\n",
    "\n",
    "_Примечание_. Для определенности считайте, что множество $X$ задается списком (то есть на элементах есть порядок), но в нем все элементы уникальны."
   ]
  },
  {
   "cell_type": "code",
   "execution_count": 7,
   "metadata": {},
   "outputs": [
    {
     "data": {
      "text/plain": [
       "[4, 1, 10, 1, 4, 24]"
      ]
     },
     "execution_count": 7,
     "metadata": {},
     "output_type": "execute_result"
    }
   ],
   "source": [
    "class X:\n",
    "    def __init__(self, elements):\n",
    "        self.elements = elements\n",
    "\n",
    "pop = X([4,1,10,1,4,24])\n",
    "pop.elements    "
   ]
  }
 ],
 "metadata": {
  "kernelspec": {
   "display_name": "Python 3",
   "language": "python",
   "name": "python3"
  },
  "language_info": {
   "codemirror_mode": {
    "name": "ipython",
    "version": 3
   },
   "file_extension": ".py",
   "mimetype": "text/x-python",
   "name": "python",
   "nbconvert_exporter": "python",
   "pygments_lexer": "ipython3",
   "version": "3.7.4"
  }
 },
 "nbformat": 4,
 "nbformat_minor": 2
}
