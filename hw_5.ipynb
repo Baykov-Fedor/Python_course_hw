{
 "cells": [
  {
   "cell_type": "markdown",
   "metadata": {},
   "source": [
    "Во всех заданиях необходимо написать функцию (или несколько, можно даже класс, но не просто ячейку с кодом)"
   ]
  },
  {
   "cell_type": "markdown",
   "metadata": {},
   "source": [
    "### 1\n",
    "В файле (`dict.txt`) находится англо-латинский словарь, то есть список слов на английском языке и их переводы на латинский язык (переводов может быть несколько). Необходимо создать из него латино-английский словарь. Например, из словаря\n",
    "```\n",
    "apple - malum, pomum, popula\n",
    "fruit - baca, bacca, popum\n",
    "punishment - malum, multa\n",
    "```\n",
    "нужно сделать словарь.\n",
    "\n",
    "```\n",
    "baca - fruit\n",
    "bacca - fruit\n",
    "malum - apple, punishment\n",
    "multa - punishment\n",
    "pomum - apple\n",
    "popula - apple\n",
    "popum - fruit\n",
    "```\n",
    "\n",
    "Не забудьте, что слова нужно расположить в алфавитном порядке.\n",
    "\n",
    "Поощрается использование `collections.defaultdict`\n"
   ]
  },
  {
   "cell_type": "code",
   "execution_count": 118,
   "metadata": {},
   "outputs": [],
   "source": [
    "# from collections import *\n",
    "import collections\n",
    "def reversedDict ():\n",
    "    file = open('./dict.txt', mode='r+', encoding='UTF-8')\n",
    "    txt = file.readlines()\n",
    "    new_txt = []\n",
    "    \n",
    "    length = len(txt)\n",
    "    for i in range(length):\n",
    "        txt[i] = txt[i].replace(' -', ',').replace('\\n', '')\n",
    "        txt[i] = txt[i].split(', ')\n",
    "    #[['apple', 'malum', 'pomum', 'popula'], ['fruit', 'baca', 'bacca', 'popum'], ['punishment', 'malum', 'multa']]\n",
    "    \n",
    "    new_dict = collections.defaultdict()\n",
    "    \n",
    "    for line in txt:\n",
    "        index = 1\n",
    "        value = line[0]\n",
    "        while index < len(line):\n",
    "            key = line[index]\n",
    "            if key in new_dict:\n",
    "                value = new_dict.get(key) + ', ' + value\n",
    "                new_dict[key] = value\n",
    "            else:\n",
    "                new_dict[key] = value\n",
    "            index += 1\n",
    "    #defaultdict(None, {'malum': 'apple, punishment', 'pomum': 'apple', \n",
    "    #'popula': 'apple', 'baca': 'fruit', 'bacca': 'fruit', 'popum': 'fruit', 'multa': 'apple, punishment'})\n",
    "\n",
    "    for key, values in sorted(new_dict.items()):\n",
    "        new_txt.append(key + ' - ' + values + '\\n')\n",
    "    #['baca - fruit\\n', 'bacca - fruit\\n', 'malum - apple, punishment\\n', 'multa - apple, punishment\\n', \n",
    "    #'pomum - apple\\n', 'popula - apple\\n', 'popum - fruit\\n']\n",
    "\n",
    "    file.writelines(new_txt)\n",
    "    return;"
   ]
  },
  {
   "cell_type": "code",
   "execution_count": 119,
   "metadata": {},
   "outputs": [],
   "source": [
    "reversedDict()"
   ]
  },
  {
   "cell_type": "markdown",
   "metadata": {},
   "source": [
    "### 2\n",
    "\n",
    "Напишите программу, которая выписывает список файлов в данной директории и сортирует их в соответствии с их размером. Программа должна просить пользователя ввести путь к директории и печатать на экран имена всех файлов в ней и их размеры, причем первыми должны идти файлы с наибольшими размерами, а в случае одинакового размер файлы сортируются по алфавиту.\n",
    "\n",
    "_Указание. Изучите функции `listdir` и `stat` из модуля `os` и функции `isfile` и `join` из модуля `os.path`._"
   ]
  },
  {
   "cell_type": "code",
   "execution_count": 39,
   "metadata": {},
   "outputs": [
    {
     "name": "stdout",
     "output_type": "stream",
     "text": [
      "Укажите директорию:C:/Users/Baykov.f/Desktop\n",
      "Final.mp4 - 1422620642\n",
      "DS4Windows.exe - 3168256\n",
      "python-tutorial.pdf - 1477247\n",
      "Lecture-Numpy.ipynb - 180710\n",
      "WebVTT.to.SubRip.Converter.exe - 16896\n",
      "hw_3.ipynb - 13217\n",
      "Word.lnk - 2451\n",
      "PowerPoint.lnk - 2450\n",
      "Excel.lnk - 2413\n",
      "Discord.lnk - 2244\n",
      "Jupyter Notebook (Anaconda3).lnk - 2024\n",
      "Spotify.lnk - 1865\n",
      "Git command.txt - 1796\n",
      "TOTALCMD64.EXE - Ярлык.lnk - 1451\n",
      "Microsoft Edge.lnk - 1450\n",
      "Visual Studio Code.lnk - 1419\n",
      "Adobe Photoshop 2020.lnk - 1064\n",
      "Dolphin.lnk - 1044\n",
      "Telegram.lnk - 1041\n",
      "µTorrent.lnk - 899\n",
      "KMPlayer 64X.lnk - 891\n",
      "desktop.ini - 436\n",
      "computer.lnk - 335\n"
     ]
    }
   ],
   "source": [
    "import os, sys, collections\n",
    "\n",
    "def list_of_files():\n",
    "    path = input('Укажите директорию:')\n",
    "    dirs = os.listdir(path)\n",
    "    new_dict = collections.defaultdict()\n",
    "\n",
    "    for file in dirs:\n",
    "        inner_path = os.path.join(path, file)\n",
    "        if os.path.isfile(inner_path):\n",
    "            size = os.stat(inner_path).st_size\n",
    "            new_dict[file] = size\n",
    "            \n",
    "    for key, values in sorted(new_dict.items(), key=lambda x: x[1], reverse=True):\n",
    "        print(key, '-', values)\n",
    "\n",
    "list_of_files()"
   ]
  },
  {
   "cell_type": "code",
   "execution_count": 1,
   "metadata": {},
   "outputs": [],
   "source": [
    "C:/Users/Baykov.f/Desktop"
   ]
  },
  {
   "cell_type": "code",
   "execution_count": null,
   "metadata": {},
   "outputs": [],
   "source": []
  },
  {
   "cell_type": "markdown",
   "metadata": {},
   "source": [
    "### 3\n",
    "\n",
    "Напишите программу, которая находит любую последовательность цифр в знаках десятичной записи числа π. \n",
    "\n",
    "В файле pi.txt, который приложен к заданию, выписаны первый 1 миллион знаков этой записи. \n",
    "\n",
    "Программа должна загружать этот файл, считывать с клавиатуры последовательность цифр и находить все вхождения этой последовательность (номера первого знака). Так как вхождений может быть очень много, на экран должно выводиться только количество этих вхождений и первые 5 из них. Ниже приведены примеры работы с такой программой в консоли (количество найденных последовательностей может отличаться):\n",
    "\n",
    "```\n",
    "Enter sequence to search for.\n",
    "> 123\n",
    "Found 4185 results.\n",
    "Positions: 1923 2937 2975 3891 6547 ...\n",
    "\n",
    "Enter sequence to search for.\n",
    "> 1415\n",
    "Found 424 results.\n",
    "Positions: 0 6954 29135 45233 79686 ...\n",
    "```\n",
    "\n",
    "Указание. Вспомните про функцию `str.find`."
   ]
  },
  {
   "cell_type": "code",
   "execution_count": 27,
   "metadata": {},
   "outputs": [
    {
     "name": "stdout",
     "output_type": "stream",
     "text": [
      "Введите число: 1415\n",
      "Found 95 results.\n",
      "Positions 0 6954 29135 45233 79686\n"
     ]
    }
   ],
   "source": [
    "def sequence_of_numbers():\n",
    "    file = open('./pi.txt', mode='r', encoding='UTF-8')\n",
    "    txt = file.read().replace('3.', '').replace('\\n', '')\n",
    "    \n",
    "    user_num = input('Введите число: ')\n",
    "    index = 0\n",
    "    summary = 0\n",
    "    first_nums = []\n",
    "    while (index < len(txt)):\n",
    "        result = txt.find(user_num, index)\n",
    "        index = result + 1\n",
    "        summary += 1\n",
    "        if (result == -1):\n",
    "            print(f'Found {summary} results.')\n",
    "            print('Positions', *first_nums)\n",
    "            return\n",
    "        if (len(first_nums) < 5):\n",
    "            first_nums.append(result)\n",
    "        \n",
    "    \n",
    "    \n",
    "sequence_of_numbers()"
   ]
  },
  {
   "cell_type": "markdown",
   "metadata": {},
   "source": [
    "### 4\n",
    "Дана строка. Если ее длина по крайней мере 3, добавьте в конец 'ing', кроме случая, когда строка уже заканчивается на 'ing'.\n",
    "В этом случае добавьте в конец 'ly' вместо 'ing'. Если длина стркои меньше 3, верните ее неизменной.\n",
    "Функция возвращает строку-результат."
   ]
  },
  {
   "cell_type": "code",
   "execution_count": 36,
   "metadata": {},
   "outputs": [
    {
     "name": "stdout",
     "output_type": "stream",
     "text": [
      "Введите строку: doing\n"
     ]
    },
    {
     "data": {
      "text/plain": [
       "'doly'"
      ]
     },
     "execution_count": 36,
     "metadata": {},
     "output_type": "execute_result"
    }
   ],
   "source": [
    "def funny_func():\n",
    "    x = input('Введите строку: ')\n",
    "    if len(x) < 3:\n",
    "        return x\n",
    "    else:\n",
    "        if x.endswith('ing'):\n",
    "            x = x.rstrip('ing')\n",
    "            return x + 'ly'\n",
    "        else:\n",
    "            x + 'ly'\n",
    "            \n",
    "funny_func()"
   ]
  },
  {
   "cell_type": "code",
   "execution_count": null,
   "metadata": {},
   "outputs": [],
   "source": []
  },
  {
   "cell_type": "markdown",
   "metadata": {},
   "source": [
    "### 5\n",
    "\n",
    "Дана строка, найдите первые вхождения подстрок not и bad.\n",
    "Если bad следует за not, замените всю подстроку not ... bad строкой good, иначе оставьте строку неизменной.\n",
    "Функция возвращает строку-результат."
   ]
  },
  {
   "cell_type": "code",
   "execution_count": 51,
   "metadata": {},
   "outputs": [
    {
     "name": "stdout",
     "output_type": "stream",
     "text": [
      "Введите строку: hello you're not so bad man\n"
     ]
    },
    {
     "data": {
      "text/plain": [
       "\"hello you're good man\""
      ]
     },
     "execution_count": 51,
     "metadata": {},
     "output_type": "execute_result"
    }
   ],
   "source": [
    "import re\n",
    "\n",
    "def badbadnotgood():\n",
    "    x = input('Введите строку: ')\n",
    "    note = x.find('not')\n",
    "    bad = x.find('bad')\n",
    "    if (bad > note):\n",
    "#         return x.replace('not bad', 'good')\n",
    "        return re.sub(r'not.*bad', 'good', x)\n",
    "    else:\n",
    "        return x\n",
    "    \n",
    "badbadnotgood()"
   ]
  },
  {
   "cell_type": "code",
   "execution_count": null,
   "metadata": {},
   "outputs": [],
   "source": []
  },
  {
   "cell_type": "markdown",
   "metadata": {},
   "source": [
    "### 6\n",
    "Написать упрощенный вариант утилиты `nl` - функцию, которая выдает в `stdout` пронумерованные строки из файла.\n",
    "\n",
    "Если путь к файл не передан, то `nl` читает строки из stdin.\n",
    "\n",
    "Функция должна работать так же, как \n",
    "\n",
    "```\n",
    "nl -b a\n",
    "```\n",
    "\n",
    "Т.е. для файла вида \n",
    "```\n",
    "smth\n",
    "smth\n",
    "smth\n",
    "smth\n",
    "smth\n",
    "```\n",
    "\n",
    "должно быть выведено\n",
    "```\n",
    "     1\tsmth\n",
    "     2\tsmth\n",
    "     3\tsmth\n",
    "     4\tsmth\n",
    "     5\tsmth\n",
    "```"
   ]
  },
  {
   "cell_type": "code",
   "execution_count": 36,
   "metadata": {},
   "outputs": [],
   "source": [
    "def nl_utilite(path = 'no'):\n",
    "    if (path == 'no'):\n",
    "        txt = ''\n",
    "        while True:\n",
    "            x = input(\"Введите строки: \")\n",
    "            if x:\n",
    "                txt += x + \"\\n\"\n",
    "            else:\n",
    "                break\n",
    "        \n",
    "        txt = txt.split('\\n')\n",
    "        length = len(txt)\n",
    "    \n",
    "        for i in range(length):\n",
    "            txt[i] = f'{i+1}    {txt[i]}'\n",
    "        for line in txt:\n",
    "            print(line)\n",
    "    else:\n",
    "        file = open(path, mode='r', encoding='UTF-8')\n",
    "        txt = file.readlines()    \n",
    "        length = len(txt)\n",
    "        \n",
    "        for i in range(length):\n",
    "            if ('\\n' in txt[i]):\n",
    "                txt[i] = f'{i+1}    {txt[i]}'\n",
    "        for line in txt:\n",
    "            print(line)\n",
    "    return"
   ]
  },
  {
   "cell_type": "code",
   "execution_count": 30,
   "metadata": {},
   "outputs": [
    {
     "name": "stdout",
     "output_type": "stream",
     "text": [
      "1    apple - malum, pomum, popula\n",
      "\n",
      "2    fruit - baca, bacca, popum\n",
      "\n",
      "3    punishment - malum, multa\n",
      "\n",
      "4    \n",
      "\n",
      "5    baca - fruit\n",
      "\n",
      "6    bacca - fruit\n",
      "\n",
      "7    malum - apple, punishment\n",
      "\n",
      "8    multa - apple, punishment\n",
      "\n",
      "9    pomum - apple\n",
      "\n",
      "10    popula - apple\n",
      "\n",
      "11    popum - fruit\n",
      "\n"
     ]
    }
   ],
   "source": [
    "nl_utilite('./dict.txt')"
   ]
  },
  {
   "cell_type": "code",
   "execution_count": 37,
   "metadata": {},
   "outputs": [
    {
     "name": "stdout",
     "output_type": "stream",
     "text": [
      "Введите строки: Привет\n",
      "Введите строки: Как дела\n",
      "Введите строки: НОрмалек\n",
      "Введите строки: \n",
      "1    Привет\n",
      "2    Как дела\n",
      "3    НОрмалек\n",
      "4    \n"
     ]
    }
   ],
   "source": [
    "nl_utilite()"
   ]
  },
  {
   "cell_type": "code",
   "execution_count": null,
   "metadata": {},
   "outputs": [],
   "source": []
  }
 ],
 "metadata": {
  "kernelspec": {
   "display_name": "Python 3",
   "language": "python",
   "name": "python3"
  },
  "language_info": {
   "codemirror_mode": {
    "name": "ipython",
    "version": 3
   },
   "file_extension": ".py",
   "mimetype": "text/x-python",
   "name": "python",
   "nbconvert_exporter": "python",
   "pygments_lexer": "ipython3",
   "version": "3.7.4"
  }
 },
 "nbformat": 4,
 "nbformat_minor": 2
}
