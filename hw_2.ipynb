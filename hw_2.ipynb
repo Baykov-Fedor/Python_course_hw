{
 "cells": [
  {
   "cell_type": "markdown",
   "metadata": {},
   "source": [
    "### Задание 1"
   ]
  },
  {
   "cell_type": "markdown",
   "metadata": {},
   "source": [
    "Реализуйте функцию union, возвращающую объединение произвольного числа множеств."
   ]
  },
  {
   "cell_type": "code",
   "execution_count": 25,
   "metadata": {},
   "outputs": [],
   "source": [
    "def union(*sets):\n",
    "    united = set()\n",
    "    for some_set in sets:\n",
    "        united = united|some_set\n",
    "    return united"
   ]
  },
  {
   "cell_type": "code",
   "execution_count": 26,
   "metadata": {},
   "outputs": [
    {
     "data": {
      "text/plain": [
       "{1, 2, 3, 6, 10}"
      ]
     },
     "execution_count": 26,
     "metadata": {},
     "output_type": "execute_result"
    }
   ],
   "source": [
    "union({1, 2, 3}, {10}, {2, 6})"
   ]
  },
  {
   "cell_type": "markdown",
   "metadata": {},
   "source": [
    "### Задание 2"
   ]
  },
  {
   "cell_type": "markdown",
   "metadata": {},
   "source": [
    "Реализуйте функцию digits, возвращающую список цифр неотрицательного целого числа.\n",
    "\n",
    "Пользоваться функцией str для реализации функции digits нельзя."
   ]
  },
  {
   "cell_type": "code",
   "execution_count": 2,
   "metadata": {},
   "outputs": [],
   "source": [
    "def digits(number):\n",
    "    if number == 0:\n",
    "        return [0]\n",
    "    n = 10\n",
    "    list_of_digits = []\n",
    "    while number > 0:      \n",
    "        i = number % n\n",
    "        number -= i\n",
    "        list_of_digits.append(i//(n//10))\n",
    "        n *= 10\n",
    "    list_of_digits.reverse()\n",
    "    return list_of_digits"
   ]
  },
  {
   "cell_type": "code",
   "execution_count": 3,
   "metadata": {},
   "outputs": [
    {
     "data": {
      "text/plain": [
       "[1, 0, 1, 0]"
      ]
     },
     "execution_count": 3,
     "metadata": {},
     "output_type": "execute_result"
    }
   ],
   "source": [
    "digits(1010)"
   ]
  },
  {
   "cell_type": "code",
   "execution_count": 4,
   "metadata": {},
   "outputs": [
    {
     "data": {
      "text/plain": [
       "[1]"
      ]
     },
     "execution_count": 4,
     "metadata": {},
     "output_type": "execute_result"
    }
   ],
   "source": [
    "digits(1)"
   ]
  },
  {
   "cell_type": "code",
   "execution_count": 63,
   "metadata": {},
   "outputs": [
    {
     "data": {
      "text/plain": [
       "[0]"
      ]
     },
     "execution_count": 63,
     "metadata": {},
     "output_type": "execute_result"
    }
   ],
   "source": [
    "digits(0) # [0]"
   ]
  },
  {
   "cell_type": "code",
   "execution_count": 64,
   "metadata": {},
   "outputs": [
    {
     "data": {
      "text/plain": [
       "[1, 9, 1, 4]"
      ]
     },
     "execution_count": 64,
     "metadata": {},
     "output_type": "execute_result"
    }
   ],
   "source": [
    "digits(1914) # [1, 9, 1, 4]"
   ]
  },
  {
   "cell_type": "markdown",
   "metadata": {},
   "source": [
    "### Задание 3"
   ]
  },
  {
   "cell_type": "markdown",
   "metadata": {},
   "source": [
    "Напишите функцию lcm, вычисляющую НОК (наименьшее общее кратное) двух и более целых чисел. \n",
    "\n",
    "В данном задании можно использовать функцию gcd из модуля math `from math import gcd`\n",
    "\n",
    "В случае, если передано меньше чисел, чем 2, должно быть брошено исключение. Бросать исключения с помощью raise запрещено.\n"
   ]
  },
  {
   "cell_type": "code",
   "execution_count": 90,
   "metadata": {},
   "outputs": [
    {
     "data": {
      "text/plain": [
       "18700"
      ]
     },
     "execution_count": 90,
     "metadata": {},
     "output_type": "execute_result"
    }
   ],
   "source": [
    "from math import gcd\n",
    "def lcm(first, second, *numbers):\n",
    "    Composition = first * second\n",
    "    GCD = gcd(first, second)\n",
    "    LCM = Composition // GCD\n",
    "    for nums in numbers:\n",
    "        Composition = LCM * nums\n",
    "        GCD = gcd(LCM, nums)\n",
    "        LCM = (Composition // GCD)\n",
    "    return LCM\n",
    "\n",
    "lcm(100,22, 34, 50)"
   ]
  },
  {
   "cell_type": "code",
   "execution_count": 91,
   "metadata": {},
   "outputs": [
    {
     "data": {
      "text/plain": [
       "703500"
      ]
     },
     "execution_count": 91,
     "metadata": {},
     "output_type": "execute_result"
    }
   ],
   "source": [
    "lcm(100500, 42) # 703500"
   ]
  },
  {
   "cell_type": "code",
   "execution_count": 92,
   "metadata": {},
   "outputs": [
    {
     "data": {
      "text/plain": [
       "19890"
      ]
     },
     "execution_count": 92,
     "metadata": {},
     "output_type": "execute_result"
    }
   ],
   "source": [
    "lcm(*range(2, 40, 8)) # 19890"
   ]
  },
  {
   "cell_type": "code",
   "execution_count": 93,
   "metadata": {},
   "outputs": [
    {
     "ename": "TypeError",
     "evalue": "lcm() missing 1 required positional argument: 'second'",
     "output_type": "error",
     "traceback": [
      "\u001b[1;31m---------------------------------------------------------------------------\u001b[0m",
      "\u001b[1;31mTypeError\u001b[0m                                 Traceback (most recent call last)",
      "\u001b[1;32m<ipython-input-93-eb9553253a08>\u001b[0m in \u001b[0;36m<module>\u001b[1;34m\u001b[0m\n\u001b[1;32m----> 1\u001b[1;33m \u001b[0mlcm\u001b[0m\u001b[1;33m(\u001b[0m\u001b[1;36m10\u001b[0m\u001b[1;33m)\u001b[0m\u001b[1;33m\u001b[0m\u001b[1;33m\u001b[0m\u001b[0m\n\u001b[0m",
      "\u001b[1;31mTypeError\u001b[0m: lcm() missing 1 required positional argument: 'second'"
     ]
    }
   ],
   "source": [
    "lcm(10)"
   ]
  },
  {
   "cell_type": "markdown",
   "metadata": {},
   "source": [
    "### Задание 4"
   ]
  },
  {
   "cell_type": "markdown",
   "metadata": {},
   "source": [
    "Реализуйте функцию compose, которая принимает две и более функции от одного аргумента, и возвращает их композицию."
   ]
  },
  {
   "cell_type": "code",
   "execution_count": 45,
   "metadata": {},
   "outputs": [
    {
     "data": {
      "text/plain": [
       "12"
      ]
     },
     "execution_count": 45,
     "metadata": {},
     "output_type": "execute_result"
    }
   ],
   "source": [
    "def compose(first, second, *others):\n",
    "    functions = [first, second, *others]\n",
    "    \n",
    "    def composed(func_1, func_2):\n",
    "        return lambda x: func_1(func_2(x))\n",
    "    \n",
    "    while len(functions) > 2:\n",
    "        new_func = composed(functions[-2], functions[-1])\n",
    "        functions.pop()\n",
    "        functions[-1] = new_func\n",
    "    else:\n",
    "        return composed(functions[-2], functions[-1])\n",
    "    \n",
    "    \n",
    "f = compose(lambda x: 2 * x, lambda x: x + 3, lambda x: x % 9, lambda x: x + 2)\n",
    "f(10)"
   ]
  },
  {
   "cell_type": "code",
   "execution_count": 44,
   "metadata": {},
   "outputs": [
    {
     "data": {
      "text/plain": [
       "14"
      ]
     },
     "execution_count": 44,
     "metadata": {},
     "output_type": "execute_result"
    }
   ],
   "source": [
    "f = compose(lambda x: 2 * x, lambda x: x + 1, lambda x: x % 9) \n",
    "f(42)# 14"
   ]
  },
  {
   "cell_type": "code",
   "execution_count": 36,
   "metadata": {},
   "outputs": [
    {
     "data": {
      "text/plain": [
       "14"
      ]
     },
     "execution_count": 36,
     "metadata": {},
     "output_type": "execute_result"
    }
   ],
   "source": [
    "2 * ((42 % 9) + 1)"
   ]
  },
  {
   "cell_type": "markdown",
   "metadata": {},
   "source": [
    "### Задание 5"
   ]
  },
  {
   "cell_type": "markdown",
   "metadata": {},
   "source": [
    "Напишите списковое выражение, которое для данного n генерирует все пифагоровские тройки из чисел не больше, чем n (x, y, z называется пифагоровской тройкой, если $x^2 + y^2 = z^2$)."
   ]
  },
  {
   "cell_type": "code",
   "execution_count": 53,
   "metadata": {
    "collapsed": true
   },
   "outputs": [
    {
     "data": {
      "text/plain": [
       "[(3, 4, 5),\n",
       " (5, 12, 13),\n",
       " (6, 8, 10),\n",
       " (7, 24, 25),\n",
       " (8, 15, 17),\n",
       " (9, 12, 15),\n",
       " (9, 40, 41),\n",
       " (10, 24, 26),\n",
       " (11, 60, 61),\n",
       " (12, 16, 20),\n",
       " (12, 35, 37),\n",
       " (13, 84, 85),\n",
       " (14, 48, 50),\n",
       " (15, 20, 25),\n",
       " (15, 36, 39),\n",
       " (16, 30, 34),\n",
       " (16, 63, 65),\n",
       " (18, 24, 30),\n",
       " (18, 80, 82),\n",
       " (20, 21, 29),\n",
       " (20, 48, 52),\n",
       " (21, 28, 35),\n",
       " (21, 72, 75),\n",
       " (24, 32, 40),\n",
       " (24, 45, 51),\n",
       " (24, 70, 74),\n",
       " (25, 60, 65),\n",
       " (27, 36, 45),\n",
       " (28, 45, 53),\n",
       " (30, 40, 50),\n",
       " (30, 72, 78),\n",
       " (32, 60, 68),\n",
       " (33, 44, 55),\n",
       " (33, 56, 65),\n",
       " (35, 84, 91),\n",
       " (36, 48, 60),\n",
       " (36, 77, 85),\n",
       " (39, 52, 65),\n",
       " (39, 80, 89),\n",
       " (40, 42, 58),\n",
       " (40, 75, 85),\n",
       " (42, 56, 70),\n",
       " (45, 60, 75),\n",
       " (48, 55, 73),\n",
       " (48, 64, 80),\n",
       " (51, 68, 85),\n",
       " (54, 72, 90),\n",
       " (57, 76, 95),\n",
       " (60, 63, 87),\n",
       " (65, 72, 97)]"
      ]
     },
     "execution_count": 53,
     "metadata": {},
     "output_type": "execute_result"
    }
   ],
   "source": [
    "n = 100\n",
    "[(x,y,z) for x in range(1, n) for y in range(x+1, n) for z in range(y+1, n) if x**2 + y**2 == z**2 ]"
   ]
  },
  {
   "cell_type": "markdown",
   "metadata": {},
   "source": [
    "### Задание 6"
   ]
  },
  {
   "cell_type": "markdown",
   "metadata": {},
   "source": [
    "Алексей написал следующий код:\n",
    "```python\n",
    "def factory(n):\n",
    "    list_to_return = []\n",
    "    for i in range(n):\n",
    "        list_to_return.append(lambda: i)\n",
    "    return list_to_return \n",
    "```\n",
    "но его код работает не так, как он ожидал:\n",
    "```python\n",
    ">>> for func in factory(5):\n",
    "        print(func())\n",
    "4\n",
    "4\n",
    "4\n",
    "4\n",
    "4\n",
    "```\n",
    "Вам предстоит:\n",
    "- объяснить Алексею почему так получилось в 2-4 предложениях\n",
    "- переписать код функции factory так, чтобы исправить проблему"
   ]
  },
  {
   "cell_type": "code",
   "execution_count": 48,
   "metadata": {},
   "outputs": [
    {
     "data": {
      "text/plain": [
       "[<function __main__.factory.<locals>.appendix.<locals>.<lambda>()>,\n",
       " <function __main__.factory.<locals>.appendix.<locals>.<lambda>()>,\n",
       " <function __main__.factory.<locals>.appendix.<locals>.<lambda>()>,\n",
       " <function __main__.factory.<locals>.appendix.<locals>.<lambda>()>,\n",
       " <function __main__.factory.<locals>.appendix.<locals>.<lambda>()>]"
      ]
     },
     "execution_count": 48,
     "metadata": {},
     "output_type": "execute_result"
    }
   ],
   "source": [
    "def factory(n):\n",
    "    list_to_return = []\n",
    "    def appendix(x):\n",
    "        return lambda: x\n",
    "    for i in range(n):\n",
    "        list_to_return.append(appendix(i))\n",
    "    return list_to_return \n",
    "\n",
    "factory(5)"
   ]
  },
  {
   "cell_type": "code",
   "execution_count": 49,
   "metadata": {},
   "outputs": [
    {
     "name": "stdout",
     "output_type": "stream",
     "text": [
      "0\n",
      "1\n",
      "2\n",
      "3\n",
      "4\n"
     ]
    }
   ],
   "source": [
    "for func in factory(5):\n",
    "        print(func())"
   ]
  },
  {
   "cell_type": "code",
   "execution_count": null,
   "metadata": {},
   "outputs": [],
   "source": [
    "# В оригинальной функции-конструкторе Алексея: Функции, которые передавались в лист, содержали в себе лишь ссылку на значение i,\n",
    "# и к моменту когда мы возвращали этот лист, i принимал окончательное значение 4. Что и наблюдалось по итоговым функцям"
   ]
  },
  {
   "cell_type": "code",
   "execution_count": null,
   "metadata": {},
   "outputs": [],
   "source": [
    "sdnfnsfvnsdjkfvnjskdf"
   ]
  }
 ],
 "metadata": {
  "kernelspec": {
   "display_name": "Python 3",
   "language": "python",
   "name": "python3"
  },
  "language_info": {
   "codemirror_mode": {
    "name": "ipython",
    "version": 3
   },
   "file_extension": ".py",
   "mimetype": "text/x-python",
   "name": "python",
   "nbconvert_exporter": "python",
   "pygments_lexer": "ipython3",
   "version": "3.7.4"
  }
 },
 "nbformat": 4,
 "nbformat_minor": 2
}
