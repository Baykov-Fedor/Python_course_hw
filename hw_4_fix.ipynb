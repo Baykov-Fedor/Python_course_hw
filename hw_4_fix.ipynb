{
 "cells": [
  {
   "cell_type": "markdown",
   "metadata": {},
   "source": [
    "### 1. N times\n",
    "Реализуйте декоратор n_times. Результатом его работы должна быть функцию, вызывающая декорируемую функцию n раз. \n",
    "Возвращаемое значение декорируемой функции можно игнорировать.\n",
    "\n",
    "```python\n",
    "@n_times(3)\n",
    "def do_something():\n",
    "    print(\"Something is going on!\")\n",
    "\n",
    ">>> do_something()\n",
    "Something is going on!\n",
    "Something is going on!\n",
    "Something is going on!\n",
    "```\n"
   ]
  },
  {
   "cell_type": "code",
   "execution_count": 1,
   "metadata": {},
   "outputs": [
    {
     "name": "stdout",
     "output_type": "stream",
     "text": [
      "Something is going on!\n",
      "Something is going on!\n",
      "Something is going on!\n"
     ]
    }
   ],
   "source": [
    "#! Забываете использовать functools.wraps\n",
    "from functools import wraps\n",
    "\n",
    "def n_times(n):\n",
    "    def decorator(func):\n",
    "        @wraps(func)\n",
    "        def inner(*args):\n",
    "            for i in range(n):\n",
    "                func(*args)\n",
    "            pass\n",
    "        return inner\n",
    "    return decorator \n",
    "\n",
    "@n_times(3)\n",
    "def do_something():\n",
    "    print(\"Something is going on!\")\n",
    "\n",
    "do_something()\n"
   ]
  },
  {
   "cell_type": "markdown",
   "metadata": {},
   "source": [
    "### 2. trace_if \n",
    "Напишите декоратор trace, который будет выводить информацию о вызове функции, только если переданные аргументы \n",
    "удовлетворяют предикату.\n",
    "```python\n",
    "@trace_if(lambda x, y, **kwargs: kwargs.get(\"integral\"))\n",
    "def div(x, y, integral=False):\n",
    "    return x // y if integral else x / y\n",
    "\n",
    ">>> div(4, 2)\n",
    "2\n",
    ">>> div(4, 2, integral=True)\n",
    "div (4, 2) {'integral': True}\n",
    "2\n",
    "```\n"
   ]
  },
  {
   "cell_type": "code",
   "execution_count": 96,
   "metadata": {},
   "outputs": [
    {
     "name": "stdout",
     "output_type": "stream",
     "text": [
      "2.0\n"
     ]
    }
   ],
   "source": [
    "def trace_if(func1):\n",
    "    def decorator(func2):\n",
    "        @wraps(func2)\n",
    "        def inner(*args2, **kwargs2):\n",
    "            \n",
    "            if (func1(*args2, **kwargs2)):\n",
    "                print(func2.__name__, args2, kwargs2)\n",
    "            return func2(*args2, **kwargs2)\n",
    "        \n",
    "        return inner\n",
    "    return decorator \n",
    "                \n",
    "\n",
    "@trace_if(lambda x, y, **kwargs: kwargs.get(\"integral\"))\n",
    "def div(x, y, integral=False):\n",
    "    return x // y if integral else x / y\n",
    "\n",
    "print(div(4, 2, integral = False))\n",
    "\n",
    "\n"
   ]
  },
  {
   "cell_type": "markdown",
   "metadata": {},
   "source": [
    "### 3. checked\n",
    "Напишите декоратор, который будет вызывать исключение (`raise TypeError`), если в него переданы аргументы не тех типов.\n",
    "\n",
    "Для простоты можно считать, что у декорируемой функции есть **только позициональные аргументы**.\n",
    "\n",
    "```python\n",
    "@checked(int, int, float)\n",
    "def do_sum_and_div(a, b, c):\n",
    "    return c / (a + b)     \n",
    "```"
   ]
  },
  {
   "cell_type": "code",
   "execution_count": 14,
   "metadata": {},
   "outputs": [
    {
     "data": {
      "text/plain": [
       "0.5"
      ]
     },
     "execution_count": 14,
     "metadata": {},
     "output_type": "execute_result"
    }
   ],
   "source": [
    "def checked(*args1):\n",
    "    def decorator(func):\n",
    "        @wraps(func)\n",
    "        def inner(*args2):\n",
    "            for i in range(len(args1)):\n",
    "                #! Не нужно сравнивать типы, используйте isistance\n",
    "                if (isinstance(args2[i], args1[i]) == False):\n",
    "                    raise TypeError('Incorrect types')\n",
    "            return func(*args2)\n",
    "        return inner\n",
    "    return decorator \n",
    "\n",
    "@checked(int, int, float)\n",
    "def do_sum_and_div(a, b, c):\n",
    "    return c / (a + b)    \n",
    "\n",
    "do_sum_and_div(5, 5, 5.0)"
   ]
  }
 ],
 "metadata": {
  "kernelspec": {
   "display_name": "Python 3",
   "language": "python",
   "name": "python3"
  },
  "language_info": {
   "codemirror_mode": {
    "name": "ipython",
    "version": 3
   },
   "file_extension": ".py",
   "mimetype": "text/x-python",
   "name": "python",
   "nbconvert_exporter": "python",
   "pygments_lexer": "ipython3",
   "version": "3.7.4"
  }
 },
 "nbformat": 4,
 "nbformat_minor": 2
}
