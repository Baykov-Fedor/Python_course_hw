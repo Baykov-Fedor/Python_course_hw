{
 "cells": [
  {
   "cell_type": "markdown",
   "metadata": {},
   "source": [
    "### 1\n",
    "\n",
    "Напишите менеджер контекста, который позволит засекать время выполнения блока кода с помощью конструкции\n",
    "with и выводить это время на экран по выходу из блока.\n",
    "\n",
    "Пример использования:\n",
    "```python\n",
    ">>> import time\n",
    "\n",
    ">>> def do_some_long_stuff():\n",
    "...     time.sleep(10)\n",
    "...\n",
    "\n",
    ">>> with Timer():\n",
    "...     do_some_long_stuff()\n",
    "...   \n",
    "    \n",
    "Time elapsed:  10.002187691999978\n",
    "```"
   ]
  },
  {
   "cell_type": "code",
   "execution_count": 20,
   "metadata": {},
   "outputs": [
    {
     "name": "stdout",
     "output_type": "stream",
     "text": [
      "Time elapsed: 4.999986699999681\n"
     ]
    }
   ],
   "source": [
    "import time\n",
    "\n",
    "def do_some_long_stuff():\n",
    "    time.sleep(5)\n",
    "\n",
    "class Timer():\n",
    "    def __init__(self):\n",
    "        self.start_time = None;\n",
    "        \n",
    "    def start(self):           \n",
    "        self.start_time = time.perf_counter()\n",
    "        \n",
    "    def stop(self):            \n",
    "        stop_time = time.perf_counter() - self.start_time\n",
    "        self.start_time = None\n",
    "        \n",
    "        print(f\"Time elapsed: {stop_time}\")\n",
    "        \n",
    "    def __enter__(self):\n",
    "        self.start()\n",
    "        return self\n",
    "    \n",
    "    def __exit__(self, *exc_info):\n",
    "        self.stop()\n",
    "        \n",
    "\n",
    "with Timer():\n",
    "    do_some_long_stuff()"
   ]
  },
  {
   "cell_type": "markdown",
   "metadata": {},
   "source": [
    "### 2\n",
    "Напишите генератор, который принимает на вход две неубывающие последовательности и выдает одну объединенную\n",
    "неубывающую последовательность (аналогично merge из первого дз).\n",
    "\n",
    "_Примечание: Последовательность -- любой объект, по которому можно проитерироваться._"
   ]
  },
  {
   "cell_type": "code",
   "execution_count": 2,
   "metadata": {},
   "outputs": [
    {
     "data": {
      "text/plain": [
       "[1, 2, 3, 7, 10, 12]"
      ]
     },
     "execution_count": 2,
     "metadata": {},
     "output_type": "execute_result"
    }
   ],
   "source": [
    "def merge(seq1, seq2):\n",
    "    seq1 = iter(seq1)\n",
    "    seq2 = iter(seq2)\n",
    "    \n",
    "    el1 = next(seq1, None)\n",
    "    el2 = next(seq2, None)\n",
    "    while el1 is not None and el2 is not None:\n",
    "        if el1 < el2:\n",
    "            yield el1\n",
    "            el1 = next(seq1, None)\n",
    "        else:\n",
    "            yield el2\n",
    "            el2 = next(seq2, None)\n",
    "            \n",
    "    while el1 is not None:\n",
    "        yield el1\n",
    "        el1 = next(seq1, None)\n",
    "        \n",
    "    while el2 is not None:\n",
    "        yield el2\n",
    "        el2 = next(seq2, None)\n",
    "\n",
    "#     yield from seq1\n",
    "#     yield from seq2\n",
    "    \n",
    "list(merge([1,3,7], [2,10,12]))\n",
    "        "
   ]
  },
  {
   "cell_type": "code",
   "execution_count": 139,
   "metadata": {},
   "outputs": [],
   "source": [
    "def g(it1, it2):\n",
    "    i = 0\n",
    "    j = 0\n",
    "    new_list = []\n",
    "    while i < len(it1) and j < len(it2):\n",
    "        if it1[i] < it2[j]:\n",
    "            yield it1[i]\n",
    "            i += 1     \n",
    "        else:\n",
    "            yield it2[j]\n",
    "            j += 1\n",
    "            \n",
    "    while i < len(it1):\n",
    "        yield it1[i]\n",
    "        i += 1\n",
    "        \n",
    "    while j < len(it2):\n",
    "        yield it2[j]\n",
    "        j += 1\n",
    "        \n"
   ]
  },
  {
   "cell_type": "code",
   "execution_count": 140,
   "metadata": {},
   "outputs": [
    {
     "data": {
      "text/plain": [
       "[-1, 2, 3, 5, 6, 9, 10]"
      ]
     },
     "execution_count": 140,
     "metadata": {},
     "output_type": "execute_result"
    }
   ],
   "source": [
    "gen = g([-1, 2, 5, 10], [3, 6, 9])\n",
    "list(gen)"
   ]
  },
  {
   "cell_type": "markdown",
   "metadata": {},
   "source": [
    "### 3\n",
    "Создайте собственный класс-итератор, который в качестве параметра конструктора принимает на вход число N и итерируется\n",
    "по N случайным числам."
   ]
  },
  {
   "cell_type": "code",
   "execution_count": 6,
   "metadata": {},
   "outputs": [
    {
     "name": "stdout",
     "output_type": "stream",
     "text": [
      "6.202801877442484\n",
      "8.880440205987549\n",
      "0.6047718873539476\n",
      "3.3988324761018927\n",
      "4.153762051372469\n",
      "9.971301266876033\n",
      "3.3545405194332014\n",
      "0.5978042981298692\n",
      "2.8197849414379283\n",
      "1.989468889710464\n"
     ]
    }
   ],
   "source": [
    "import random\n",
    "\n",
    "class RandomIterator:\n",
    "    def __init__(self, N):\n",
    "        self.n = N\n",
    "    \n",
    "    def __iter__(self):\n",
    "        for i in range(self.n):\n",
    "            yield random.random() * self.n\n",
    "            \n",
    "for n in RandomIterator(10):\n",
    "    print(n)"
   ]
  },
  {
   "cell_type": "code",
   "execution_count": 143,
   "metadata": {},
   "outputs": [
    {
     "data": {
      "text/plain": [
       "[0.3629243672728938,\n",
       " 0.6327649865788505,\n",
       " 0.5132976854775209,\n",
       " 0.11635400474238822,\n",
       " 0.09277170002043467]"
      ]
     },
     "execution_count": 143,
     "metadata": {},
     "output_type": "execute_result"
    }
   ],
   "source": [
    "import random\n",
    "\n",
    "class N_iterator:\n",
    "    def __init__(self, N=1):\n",
    "        self.number = N\n",
    "    def __iter__(self):\n",
    "        return self\n",
    "    def __next__(self):\n",
    "        if self.number < 1:\n",
    "            raise StopIteration \n",
    "        self.number -= 1\n",
    "        return random.random()\n",
    "\n",
    "N = N_iterator(5)\n",
    "list(N)"
   ]
  },
  {
   "cell_type": "markdown",
   "metadata": {},
   "source": [
    "### 4\n",
    "Напишите генератор filter, который принимает предикат и последовательность и выдает последовательность, в которой отсутствуют элементы, для которых предикат истенен (аналогично встроенной функции `filter`)"
   ]
  },
  {
   "cell_type": "code",
   "execution_count": null,
   "metadata": {},
   "outputs": [],
   "source": [
    "def filter(pred, seq):\n",
    "    for el in seq:\n",
    "        if not pred(el):\n",
    "            yield el\n",
    "            "
   ]
  },
  {
   "cell_type": "code",
   "execution_count": 71,
   "metadata": {},
   "outputs": [],
   "source": [
    "def filter(predicate, iterable):\n",
    "    for item in iterable:\n",
    "        if predicate != item:\n",
    "            yield item"
   ]
  },
  {
   "cell_type": "code",
   "execution_count": 144,
   "metadata": {},
   "outputs": [
    {
     "data": {
      "text/plain": [
       "[1, 10, 7, 11]"
      ]
     },
     "execution_count": 144,
     "metadata": {},
     "output_type": "execute_result"
    }
   ],
   "source": [
    "g = filter(5, [1, 5, 10, 7, 11, 5])\n",
    "list(g)"
   ]
  },
  {
   "cell_type": "markdown",
   "metadata": {},
   "source": [
    "### 5\n",
    "Напишите функцию-генератор факториалов, которая принимает принимает на вход n - максимальное число, для которого может вычислить факториал (n!).\n",
    "\n",
    "Например:\n",
    "```python\n",
    ">>> f10 = fact_generator(10)\n",
    "\n",
    ">>> next(f10)\n",
    "1\n",
    "\n",
    ">>> next(f10) \n",
    "2\n",
    "\n",
    ">>> next(f10)\n",
    "6\n",
    "```\n"
   ]
  },
  {
   "cell_type": "code",
   "execution_count": null,
   "metadata": {},
   "outputs": [],
   "source": [
    "def fact_generator(n):\n",
    "    current = 1\n",
    "    for i in range(2, n+1):\n",
    "        yield current\n",
    "        current *= i "
   ]
  },
  {
   "cell_type": "code",
   "execution_count": 138,
   "metadata": {},
   "outputs": [
    {
     "data": {
      "text/plain": [
       "[1, 1, 2, 6, 24, 120]"
      ]
     },
     "execution_count": 138,
     "metadata": {},
     "output_type": "execute_result"
    }
   ],
   "source": [
    "import math\n",
    "\n",
    "def f_generator(n):\n",
    "    i = 0\n",
    "    while i <= n:\n",
    "        yield math.factorial(i)\n",
    "        i += 1\n",
    "    \n",
    "    \n",
    "g = f_generator(5)\n",
    "list(g)"
   ]
  }
 ],
 "metadata": {
  "kernelspec": {
   "display_name": "Python 3",
   "language": "python",
   "name": "python3"
  },
  "language_info": {
   "codemirror_mode": {
    "name": "ipython",
    "version": 3
   },
   "file_extension": ".py",
   "mimetype": "text/x-python",
   "name": "python",
   "nbconvert_exporter": "python",
   "pygments_lexer": "ipython3",
   "version": "3.7.4"
  }
 },
 "nbformat": 4,
 "nbformat_minor": 2
}
